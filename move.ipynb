{
 "cells": [
  {
   "cell_type": "code",
   "execution_count": null,
   "metadata": {},
   "outputs": [],
   "source": [
    "#!/usr/bin/env python\n",
    "import rospy\n",
    "from geometry_msgs.msg import Twist\n",
    "\n",
    "def move():\n",
    "    # Starts a new node\n",
    "    rospy.init_node('robot_cleaner', anonymous=True)\n",
    "    velocity_publisher = rospy.Publisher('/turtle1/cmd_vel', Twist, queue_size=10)\n",
    "    vel_msg = Twist()\n",
    "\n",
    "    #Receiveing the user's input\n",
    "    print(\"Let's move your robot\")\n",
    "    speed = input(\"Input your speed:\")\n",
    "    distance = input(\"Type your distance:\")\n",
    "    isForward = input(\"Foward?: \")#True or False\n",
    "\n",
    "    #Checking if the movement is forward or backwards\n",
    "    if(isForward):\n",
    "        vel_msg.linear.x = abs(speed)\n",
    "    else:\n",
    "        vel_msg.linear.x = -abs(speed)\n",
    "    #Since we are moving just in x-axis\n",
    "    vel_msg.linear.y = 0\n",
    "    vel_msg.linear.z = 0\n",
    "    vel_msg.angular.x = 0\n",
    "    vel_msg.angular.y = 0\n",
    "    vel_msg.angular.z = 0\n",
    "\n",
    "    while not rospy.is_shutdown():\n",
    "\n",
    "        #Setting the current time for distance calculus\n",
    "        t0 = rospy.Time.now().to_sec()\n",
    "        current_distance = 0\n",
    "\n",
    "        #Loop to move the turtle in an specified distance\n",
    "        while(current_distance < distance):\n",
    "            #Publish the velocity\n",
    "            velocity_publisher.publish(vel_msg)\n",
    "            #Takes actual time to velocity calculus\n",
    "            t1=rospy.Time.now().to_sec()\n",
    "            #Calculates distancePoseStamped\n",
    "            current_distance= speed*(t1-t0)\n",
    "        #After the loop, stops the robot\n",
    "        vel_msg.linear.x = 0\n",
    "        #Force the robot to stop\n",
    "        velocity_publisher.publish(vel_msg)\n",
    "\n",
    "if __name__ == '__main__':\n",
    "    try:\n",
    "        #Testing our function\n",
    "        move()\n",
    "    except rospy.ROSInterruptException: pass"
   ]
  }
 ],
 "metadata": {
  "kernelspec": {
   "display_name": "Python 3",
   "language": "python",
   "name": "python3"
  },
  "language_info": {
   "codemirror_mode": {
    "name": "ipython",
    "version": 3
   },
   "file_extension": ".py",
   "mimetype": "text/x-python",
   "name": "python",
   "nbconvert_exporter": "python",
   "pygments_lexer": "ipython3",
   "version": "3.6.8"
  }
 },
 "nbformat": 4,
 "nbformat_minor": 2
}
